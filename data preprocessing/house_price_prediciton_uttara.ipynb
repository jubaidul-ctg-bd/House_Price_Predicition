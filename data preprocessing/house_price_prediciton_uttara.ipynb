{
 "cells": [
  {
   "cell_type": "code",
   "execution_count": 1,
   "metadata": {},
   "outputs": [
    {
     "name": "stdout",
     "output_type": "stream",
     "text": [
      "C:\\Users\\ASUS\n"
     ]
    }
   ],
   "source": [
    "cd"
   ]
  },
  {
   "cell_type": "code",
   "execution_count": 8,
   "metadata": {},
   "outputs": [],
   "source": [
    "import pandas as pd\n",
    "from sklearn.linear_model import LassoCV\n",
    "import numpy as np \n",
    "import matplotlib.pyplot as plt\n",
    "import seaborn as sns\n",
    "%matplotlib inline"
   ]
  },
  {
   "cell_type": "code",
   "execution_count": 9,
   "metadata": {},
   "outputs": [],
   "source": [
    "df = pd.read_csv(r\"C:\\Users\\ASUS\\hp.csv\",encoding='latin1')"
   ]
  },
  {
   "cell_type": "code",
   "execution_count": 10,
   "metadata": {},
   "outputs": [
    {
     "name": "stdout",
     "output_type": "stream",
     "text": [
      "<class 'pandas.core.frame.DataFrame'>\n",
      "RangeIndex: 136 entries, 0 to 135\n",
      "Data columns (total 16 columns):\n",
      "Property Type         136 non-null object\n",
      "Bed                   136 non-null int64\n",
      "Bath                  136 non-null int64\n",
      "Area                  136 non-null object\n",
      "Location              136 non-null object\n",
      "Price                 136 non-null object\n",
      "View                  136 non-null object\n",
      "Balcony_or_Terrace    136 non-null object\n",
      "Lobby_in_Building     136 non-null object\n",
      "ElectricityBackup     136 non-null object\n",
      "Intercom              136 non-null object\n",
      "CCTV_Security         136 non-null object\n",
      "Pet Policy            136 non-null object\n",
      "Maintenance_Staff     136 non-null object\n",
      "CleaningServices      136 non-null object\n",
      "Tiles                 136 non-null object\n",
      "dtypes: int64(2), object(14)\n",
      "memory usage: 17.1+ KB\n"
     ]
    }
   ],
   "source": [
    "df.info()"
   ]
  },
  {
   "cell_type": "code",
   "execution_count": 4,
   "metadata": {},
   "outputs": [
    {
     "data": {
      "text/html": [
       "<div>\n",
       "<style scoped>\n",
       "    .dataframe tbody tr th:only-of-type {\n",
       "        vertical-align: middle;\n",
       "    }\n",
       "\n",
       "    .dataframe tbody tr th {\n",
       "        vertical-align: top;\n",
       "    }\n",
       "\n",
       "    .dataframe thead th {\n",
       "        text-align: right;\n",
       "    }\n",
       "</style>\n",
       "<table border=\"1\" class=\"dataframe\">\n",
       "  <thead>\n",
       "    <tr style=\"text-align: right;\">\n",
       "      <th></th>\n",
       "      <th>Property Type</th>\n",
       "      <th>Bed</th>\n",
       "      <th>Bath</th>\n",
       "      <th>Area</th>\n",
       "      <th>Location</th>\n",
       "      <th>Price</th>\n",
       "      <th>View</th>\n",
       "      <th>Balcony_or_Terrace</th>\n",
       "      <th>Lobby_in_Building</th>\n",
       "      <th>ElectricityBackup</th>\n",
       "      <th>Intercom</th>\n",
       "      <th>CCTV_Security</th>\n",
       "      <th>Pet Policy</th>\n",
       "      <th>Maintenance_Staff</th>\n",
       "      <th>CleaningServices</th>\n",
       "      <th>Tiles</th>\n",
       "    </tr>\n",
       "  </thead>\n",
       "  <tbody>\n",
       "    <tr>\n",
       "      <th>0</th>\n",
       "      <td>Apartment</td>\n",
       "      <td>2</td>\n",
       "      <td>2</td>\n",
       "      <td>775</td>\n",
       "      <td>Sector 10</td>\n",
       "      <td>3,800,000</td>\n",
       "      <td>West</td>\n",
       "      <td>Yes</td>\n",
       "      <td>Yes</td>\n",
       "      <td>Yes</td>\n",
       "      <td>Yes</td>\n",
       "      <td>Yes</td>\n",
       "      <td>Not allowed</td>\n",
       "      <td>Yes</td>\n",
       "      <td>Yes</td>\n",
       "      <td>Yes</td>\n",
       "    </tr>\n",
       "    <tr>\n",
       "      <th>1</th>\n",
       "      <td>Apartment</td>\n",
       "      <td>2</td>\n",
       "      <td>2</td>\n",
       "      <td>765</td>\n",
       "      <td>Sector 10</td>\n",
       "      <td>3,978,000</td>\n",
       "      <td>East</td>\n",
       "      <td>Yes</td>\n",
       "      <td>Yes</td>\n",
       "      <td>Yes</td>\n",
       "      <td>Yes</td>\n",
       "      <td>No</td>\n",
       "      <td>Not allowed</td>\n",
       "      <td>Yes</td>\n",
       "      <td>Yes</td>\n",
       "      <td>No</td>\n",
       "    </tr>\n",
       "    <tr>\n",
       "      <th>2</th>\n",
       "      <td>Apartment</td>\n",
       "      <td>2</td>\n",
       "      <td>2</td>\n",
       "      <td>772</td>\n",
       "      <td>Sector 10</td>\n",
       "      <td>4,000,000</td>\n",
       "      <td>South</td>\n",
       "      <td>Yes</td>\n",
       "      <td>No</td>\n",
       "      <td>Yes</td>\n",
       "      <td>No</td>\n",
       "      <td>No</td>\n",
       "      <td>Not allowed</td>\n",
       "      <td>Yes</td>\n",
       "      <td>Yes</td>\n",
       "      <td>Yes</td>\n",
       "    </tr>\n",
       "    <tr>\n",
       "      <th>3</th>\n",
       "      <td>Apartment</td>\n",
       "      <td>2</td>\n",
       "      <td>2</td>\n",
       "      <td>1008</td>\n",
       "      <td>Sector 10</td>\n",
       "      <td>4,200,000</td>\n",
       "      <td>Nort</td>\n",
       "      <td>Yes</td>\n",
       "      <td>No</td>\n",
       "      <td>Yes</td>\n",
       "      <td>Yes</td>\n",
       "      <td>No</td>\n",
       "      <td>Not allowed</td>\n",
       "      <td>Yes</td>\n",
       "      <td>Yes</td>\n",
       "      <td>Yes</td>\n",
       "    </tr>\n",
       "    <tr>\n",
       "      <th>4</th>\n",
       "      <td>Apartment</td>\n",
       "      <td>2</td>\n",
       "      <td>2</td>\n",
       "      <td>1,005</td>\n",
       "      <td>Sector 10</td>\n",
       "      <td>4,200,000</td>\n",
       "      <td>East</td>\n",
       "      <td>Yes</td>\n",
       "      <td>Yes</td>\n",
       "      <td>Yes</td>\n",
       "      <td>Yes</td>\n",
       "      <td>No</td>\n",
       "      <td>Not allowed</td>\n",
       "      <td>Yes</td>\n",
       "      <td>Yes</td>\n",
       "      <td>Yes</td>\n",
       "    </tr>\n",
       "    <tr>\n",
       "      <th>5</th>\n",
       "      <td>Apartment</td>\n",
       "      <td>2</td>\n",
       "      <td>2</td>\n",
       "      <td>910</td>\n",
       "      <td>Sector 13</td>\n",
       "      <td>4,200,000</td>\n",
       "      <td>West</td>\n",
       "      <td>Yes</td>\n",
       "      <td>Yes</td>\n",
       "      <td>No</td>\n",
       "      <td>Yes</td>\n",
       "      <td>No</td>\n",
       "      <td>Not allowed</td>\n",
       "      <td>Yes</td>\n",
       "      <td>Yes</td>\n",
       "      <td>No</td>\n",
       "    </tr>\n",
       "    <tr>\n",
       "      <th>6</th>\n",
       "      <td>Apartment</td>\n",
       "      <td>2</td>\n",
       "      <td>2</td>\n",
       "      <td>950</td>\n",
       "      <td>Sector 10</td>\n",
       "      <td>4,500,000</td>\n",
       "      <td>South</td>\n",
       "      <td>Yes</td>\n",
       "      <td>Yes</td>\n",
       "      <td>Yes</td>\n",
       "      <td>Yes</td>\n",
       "      <td>Yes</td>\n",
       "      <td>Not allowed</td>\n",
       "      <td>Yes</td>\n",
       "      <td>Yes</td>\n",
       "      <td>Yes</td>\n",
       "    </tr>\n",
       "    <tr>\n",
       "      <th>7</th>\n",
       "      <td>Apartment</td>\n",
       "      <td>2</td>\n",
       "      <td>2</td>\n",
       "      <td>1,050</td>\n",
       "      <td>Sector 14</td>\n",
       "      <td>4,500,000</td>\n",
       "      <td>South</td>\n",
       "      <td>Yes</td>\n",
       "      <td>No</td>\n",
       "      <td>No</td>\n",
       "      <td>No</td>\n",
       "      <td>No</td>\n",
       "      <td>Not allowed</td>\n",
       "      <td>Yes</td>\n",
       "      <td>Yes</td>\n",
       "      <td>Yes</td>\n",
       "    </tr>\n",
       "    <tr>\n",
       "      <th>8</th>\n",
       "      <td>Apartment</td>\n",
       "      <td>2</td>\n",
       "      <td>2</td>\n",
       "      <td>950</td>\n",
       "      <td>Sector 12</td>\n",
       "      <td>4,500,000</td>\n",
       "      <td>East</td>\n",
       "      <td>Yes</td>\n",
       "      <td>No</td>\n",
       "      <td>No</td>\n",
       "      <td>No</td>\n",
       "      <td>No</td>\n",
       "      <td>Not allowed</td>\n",
       "      <td>Yes</td>\n",
       "      <td>Yes</td>\n",
       "      <td>Yes</td>\n",
       "    </tr>\n",
       "    <tr>\n",
       "      <th>9</th>\n",
       "      <td>Apartment</td>\n",
       "      <td>2</td>\n",
       "      <td>2</td>\n",
       "      <td>900</td>\n",
       "      <td>Sector 10</td>\n",
       "      <td>4,500,000</td>\n",
       "      <td>South</td>\n",
       "      <td>Yes</td>\n",
       "      <td>Yes</td>\n",
       "      <td>Yes</td>\n",
       "      <td>Yes</td>\n",
       "      <td>Yes</td>\n",
       "      <td>Not allowed</td>\n",
       "      <td>Yes</td>\n",
       "      <td>Yes</td>\n",
       "      <td>No</td>\n",
       "    </tr>\n",
       "  </tbody>\n",
       "</table>\n",
       "</div>"
      ],
      "text/plain": [
       "  Property Type  Bed  Bath   Area   Location      Price   View  \\\n",
       "0     Apartment    2     2    775  Sector 10  3,800,000   West   \n",
       "1     Apartment    2     2    765  Sector 10  3,978,000   East   \n",
       "2     Apartment    2     2    772  Sector 10  4,000,000  South   \n",
       "3     Apartment    2     2   1008  Sector 10  4,200,000   Nort   \n",
       "4     Apartment    2     2  1,005  Sector 10  4,200,000   East   \n",
       "5     Apartment    2     2    910  Sector 13  4,200,000   West   \n",
       "6     Apartment    2     2    950  Sector 10  4,500,000  South   \n",
       "7     Apartment    2     2  1,050  Sector 14  4,500,000  South   \n",
       "8     Apartment    2     2    950  Sector 12  4,500,000   East   \n",
       "9     Apartment    2     2    900  Sector 10  4,500,000  South   \n",
       "\n",
       "  Balcony_or_Terrace Lobby_in_Building ElectricityBackup Intercom  \\\n",
       "0                Yes               Yes               Yes      Yes   \n",
       "1                Yes               Yes               Yes      Yes   \n",
       "2                Yes                No               Yes       No   \n",
       "3                Yes                No               Yes      Yes   \n",
       "4                Yes               Yes               Yes      Yes   \n",
       "5                Yes               Yes                No      Yes   \n",
       "6                Yes               Yes               Yes      Yes   \n",
       "7                Yes                No                No       No   \n",
       "8                Yes                No                No       No   \n",
       "9                Yes               Yes               Yes      Yes   \n",
       "\n",
       "  CCTV_Security   Pet Policy Maintenance_Staff CleaningServices Tiles  \n",
       "0           Yes  Not allowed               Yes              Yes   Yes  \n",
       "1            No  Not allowed               Yes              Yes    No  \n",
       "2            No  Not allowed               Yes              Yes   Yes  \n",
       "3            No  Not allowed               Yes              Yes   Yes  \n",
       "4            No  Not allowed               Yes              Yes   Yes  \n",
       "5            No  Not allowed               Yes              Yes    No  \n",
       "6           Yes  Not allowed               Yes              Yes   Yes  \n",
       "7            No  Not allowed               Yes              Yes   Yes  \n",
       "8            No  Not allowed               Yes              Yes   Yes  \n",
       "9           Yes  Not allowed               Yes              Yes    No  "
      ]
     },
     "execution_count": 4,
     "metadata": {},
     "output_type": "execute_result"
    }
   ],
   "source": [
    "df[:10]"
   ]
  },
  {
   "cell_type": "code",
   "execution_count": 5,
   "metadata": {},
   "outputs": [
    {
     "data": {
      "text/plain": [
       "Property Type\n",
       "Apartment    136\n",
       "Name: Property Type, dtype: int64"
      ]
     },
     "execution_count": 5,
     "metadata": {},
     "output_type": "execute_result"
    }
   ],
   "source": [
    "df.groupby('Property Type')['Property Type'].agg('count')"
   ]
  },
  {
   "cell_type": "code",
   "execution_count": 6,
   "metadata": {},
   "outputs": [
    {
     "data": {
      "text/plain": [
       "Location\n",
       "Sector 1      1\n",
       "Sector 10    66\n",
       "Sector 11    12\n",
       "Sector 12    22\n",
       "Sector 13     5\n",
       "Sector 14    10\n",
       "Sector 3      1\n",
       "Sector 4      1\n",
       "Sector 5     10\n",
       "Sector 6      1\n",
       "Sector 7      1\n",
       "Sector 9      3\n",
       "Sector D      3\n",
       "Name: Location, dtype: int64"
      ]
     },
     "execution_count": 6,
     "metadata": {},
     "output_type": "execute_result"
    }
   ],
   "source": [
    "df.groupby('Location')['Location'].agg('count')"
   ]
  },
  {
   "cell_type": "code",
   "execution_count": 7,
   "metadata": {},
   "outputs": [
    {
     "data": {
      "text/plain": [
       "Location\n",
       "Sector 1      1\n",
       "Sector 10    66\n",
       "Sector 11    12\n",
       "Sector 12    22\n",
       "Sector 13     5\n",
       "Sector 14    10\n",
       "Sector 3      1\n",
       "Sector 4      1\n",
       "Sector 5     10\n",
       "Sector 6      1\n",
       "Sector 7      1\n",
       "Sector 9      3\n",
       "Sector D      3\n",
       "Name: Location, dtype: int64"
      ]
     },
     "execution_count": 7,
     "metadata": {},
     "output_type": "execute_result"
    }
   ],
   "source": [
    "df.groupby('Location')['Location'].agg('count')"
   ]
  },
  {
   "cell_type": "code",
   "execution_count": 10,
   "metadata": {},
   "outputs": [
    {
     "data": {
      "text/plain": [
       "0      Sector 10\n",
       "1      Sector 10\n",
       "2      Sector 10\n",
       "3      Sector 10\n",
       "4      Sector 10\n",
       "         ...    \n",
       "131    Sector 10\n",
       "132    Sector 10\n",
       "133    Sector 10\n",
       "134    Sector 10\n",
       "135    Sector 10\n",
       "Name: Location, Length: 136, dtype: object"
      ]
     },
     "execution_count": 10,
     "metadata": {},
     "output_type": "execute_result"
    }
   ],
   "source": [
    "df['Location']"
   ]
  },
  {
   "cell_type": "code",
   "execution_count": 11,
   "metadata": {},
   "outputs": [],
   "source": [
    "df = df.assign(Location='Uttara')"
   ]
  },
  {
   "cell_type": "code",
   "execution_count": 12,
   "metadata": {},
   "outputs": [
    {
     "data": {
      "text/plain": [
       "Location\n",
       "Uttara    136\n",
       "Name: Location, dtype: int64"
      ]
     },
     "execution_count": 12,
     "metadata": {},
     "output_type": "execute_result"
    }
   ],
   "source": [
    "df.groupby('Location')['Location'].agg('count')"
   ]
  },
  {
   "cell_type": "code",
   "execution_count": 13,
   "metadata": {},
   "outputs": [],
   "source": [
    "df[\"View\"]= df[\"View\"].str.lower()\n",
    "df[\"View\"]= df[\"View\"].replace(\"nortg\", \"north\") \n",
    "df[\"View\"]= df[\"View\"].replace(\"nort\", \"north\") \n",
    "df.groupby('View')['View'].agg('count') \n",
    "df1 = df.drop('View',axis='columns')\n",
    "df2 = df1.drop('Pet Policy',axis='columns')\n"
   ]
  },
  {
   "cell_type": "code",
   "execution_count": 14,
   "metadata": {},
   "outputs": [
    {
     "data": {
      "text/html": [
       "<div>\n",
       "<style scoped>\n",
       "    .dataframe tbody tr th:only-of-type {\n",
       "        vertical-align: middle;\n",
       "    }\n",
       "\n",
       "    .dataframe tbody tr th {\n",
       "        vertical-align: top;\n",
       "    }\n",
       "\n",
       "    .dataframe thead th {\n",
       "        text-align: right;\n",
       "    }\n",
       "</style>\n",
       "<table border=\"1\" class=\"dataframe\">\n",
       "  <thead>\n",
       "    <tr style=\"text-align: right;\">\n",
       "      <th></th>\n",
       "      <th>Property Type</th>\n",
       "      <th>Bed</th>\n",
       "      <th>Bath</th>\n",
       "      <th>Area</th>\n",
       "      <th>Location</th>\n",
       "      <th>Price</th>\n",
       "      <th>View</th>\n",
       "      <th>Balcony_or_Terrace</th>\n",
       "      <th>Lobby_in_Building</th>\n",
       "      <th>ElectricityBackup</th>\n",
       "      <th>Intercom</th>\n",
       "      <th>CCTV_Security</th>\n",
       "      <th>Pet Policy</th>\n",
       "      <th>Maintenance_Staff</th>\n",
       "      <th>CleaningServices</th>\n",
       "      <th>Tiles</th>\n",
       "    </tr>\n",
       "  </thead>\n",
       "  <tbody>\n",
       "    <tr>\n",
       "      <th>0</th>\n",
       "      <td>Apartment</td>\n",
       "      <td>2</td>\n",
       "      <td>2</td>\n",
       "      <td>775</td>\n",
       "      <td>Uttara</td>\n",
       "      <td>3,800,000</td>\n",
       "      <td>west</td>\n",
       "      <td>Yes</td>\n",
       "      <td>Yes</td>\n",
       "      <td>Yes</td>\n",
       "      <td>Yes</td>\n",
       "      <td>Yes</td>\n",
       "      <td>Not allowed</td>\n",
       "      <td>Yes</td>\n",
       "      <td>Yes</td>\n",
       "      <td>Yes</td>\n",
       "    </tr>\n",
       "    <tr>\n",
       "      <th>1</th>\n",
       "      <td>Apartment</td>\n",
       "      <td>2</td>\n",
       "      <td>2</td>\n",
       "      <td>765</td>\n",
       "      <td>Uttara</td>\n",
       "      <td>3,978,000</td>\n",
       "      <td>east</td>\n",
       "      <td>Yes</td>\n",
       "      <td>Yes</td>\n",
       "      <td>Yes</td>\n",
       "      <td>Yes</td>\n",
       "      <td>No</td>\n",
       "      <td>Not allowed</td>\n",
       "      <td>Yes</td>\n",
       "      <td>Yes</td>\n",
       "      <td>No</td>\n",
       "    </tr>\n",
       "    <tr>\n",
       "      <th>2</th>\n",
       "      <td>Apartment</td>\n",
       "      <td>2</td>\n",
       "      <td>2</td>\n",
       "      <td>772</td>\n",
       "      <td>Uttara</td>\n",
       "      <td>4,000,000</td>\n",
       "      <td>south</td>\n",
       "      <td>Yes</td>\n",
       "      <td>No</td>\n",
       "      <td>Yes</td>\n",
       "      <td>No</td>\n",
       "      <td>No</td>\n",
       "      <td>Not allowed</td>\n",
       "      <td>Yes</td>\n",
       "      <td>Yes</td>\n",
       "      <td>Yes</td>\n",
       "    </tr>\n",
       "    <tr>\n",
       "      <th>3</th>\n",
       "      <td>Apartment</td>\n",
       "      <td>2</td>\n",
       "      <td>2</td>\n",
       "      <td>1008</td>\n",
       "      <td>Uttara</td>\n",
       "      <td>4,200,000</td>\n",
       "      <td>north</td>\n",
       "      <td>Yes</td>\n",
       "      <td>No</td>\n",
       "      <td>Yes</td>\n",
       "      <td>Yes</td>\n",
       "      <td>No</td>\n",
       "      <td>Not allowed</td>\n",
       "      <td>Yes</td>\n",
       "      <td>Yes</td>\n",
       "      <td>Yes</td>\n",
       "    </tr>\n",
       "    <tr>\n",
       "      <th>4</th>\n",
       "      <td>Apartment</td>\n",
       "      <td>2</td>\n",
       "      <td>2</td>\n",
       "      <td>1,005</td>\n",
       "      <td>Uttara</td>\n",
       "      <td>4,200,000</td>\n",
       "      <td>east</td>\n",
       "      <td>Yes</td>\n",
       "      <td>Yes</td>\n",
       "      <td>Yes</td>\n",
       "      <td>Yes</td>\n",
       "      <td>No</td>\n",
       "      <td>Not allowed</td>\n",
       "      <td>Yes</td>\n",
       "      <td>Yes</td>\n",
       "      <td>Yes</td>\n",
       "    </tr>\n",
       "  </tbody>\n",
       "</table>\n",
       "</div>"
      ],
      "text/plain": [
       "  Property Type  Bed  Bath   Area Location      Price   View  \\\n",
       "0     Apartment    2     2    775   Uttara  3,800,000   west   \n",
       "1     Apartment    2     2    765   Uttara  3,978,000   east   \n",
       "2     Apartment    2     2    772   Uttara  4,000,000  south   \n",
       "3     Apartment    2     2   1008   Uttara  4,200,000  north   \n",
       "4     Apartment    2     2  1,005   Uttara  4,200,000   east   \n",
       "\n",
       "  Balcony_or_Terrace Lobby_in_Building ElectricityBackup Intercom  \\\n",
       "0                Yes               Yes               Yes      Yes   \n",
       "1                Yes               Yes               Yes      Yes   \n",
       "2                Yes                No               Yes       No   \n",
       "3                Yes                No               Yes      Yes   \n",
       "4                Yes               Yes               Yes      Yes   \n",
       "\n",
       "  CCTV_Security   Pet Policy Maintenance_Staff CleaningServices Tiles  \n",
       "0           Yes  Not allowed               Yes              Yes   Yes  \n",
       "1            No  Not allowed               Yes              Yes    No  \n",
       "2            No  Not allowed               Yes              Yes   Yes  \n",
       "3            No  Not allowed               Yes              Yes   Yes  \n",
       "4            No  Not allowed               Yes              Yes   Yes  "
      ]
     },
     "execution_count": 14,
     "metadata": {},
     "output_type": "execute_result"
    }
   ],
   "source": [
    "df.head()"
   ]
  },
  {
   "cell_type": "code",
   "execution_count": null,
   "metadata": {},
   "outputs": [],
   "source": []
  },
  {
   "cell_type": "code",
   "execution_count": 15,
   "metadata": {},
   "outputs": [],
   "source": [
    "df2['Tiles'] = df2['Tiles'].apply(lambda x: 0 if x=='No' else 1)\n",
    "df2['Balcony_or_Terrace'] = df2['Balcony_or_Terrace'].apply(lambda x: 0 if x=='No' else 1)\n",
    "df2['Lobby_in_Building'] = df2['Lobby_in_Building'].apply(lambda x: 0 if x=='No' else 1)\n",
    "df2['Intercom'] = df2['Intercom'].apply(lambda x: 0 if x=='No' else 1)\n",
    "df2['CCTV_Security'] = df2['CCTV_Security'].apply(lambda x: 0 if x=='No' else 1)\n",
    "df2['Maintenance_Staff'] = df2['Maintenance_Staff'].apply(lambda x: 0 if x=='No' else 1)\n",
    "df2['CleaningServices'] = df2['CleaningServices'].apply(lambda x: 0 if x=='No' else 1)\n",
    "df2['ElectricityBackup'] = df2['ElectricityBackup'].apply(lambda x: 0 if x=='No' else 1)"
   ]
  },
  {
   "cell_type": "code",
   "execution_count": 16,
   "metadata": {},
   "outputs": [
    {
     "data": {
      "text/html": [
       "<div>\n",
       "<style scoped>\n",
       "    .dataframe tbody tr th:only-of-type {\n",
       "        vertical-align: middle;\n",
       "    }\n",
       "\n",
       "    .dataframe tbody tr th {\n",
       "        vertical-align: top;\n",
       "    }\n",
       "\n",
       "    .dataframe thead th {\n",
       "        text-align: right;\n",
       "    }\n",
       "</style>\n",
       "<table border=\"1\" class=\"dataframe\">\n",
       "  <thead>\n",
       "    <tr style=\"text-align: right;\">\n",
       "      <th></th>\n",
       "      <th>Property Type</th>\n",
       "      <th>Bed</th>\n",
       "      <th>Bath</th>\n",
       "      <th>Area</th>\n",
       "      <th>Location</th>\n",
       "      <th>Price</th>\n",
       "      <th>Balcony_or_Terrace</th>\n",
       "      <th>Lobby_in_Building</th>\n",
       "      <th>ElectricityBackup</th>\n",
       "      <th>Intercom</th>\n",
       "      <th>CCTV_Security</th>\n",
       "      <th>Maintenance_Staff</th>\n",
       "      <th>CleaningServices</th>\n",
       "      <th>Tiles</th>\n",
       "    </tr>\n",
       "  </thead>\n",
       "  <tbody>\n",
       "    <tr>\n",
       "      <th>0</th>\n",
       "      <td>Apartment</td>\n",
       "      <td>2</td>\n",
       "      <td>2</td>\n",
       "      <td>775</td>\n",
       "      <td>Uttara</td>\n",
       "      <td>3,800,000</td>\n",
       "      <td>1</td>\n",
       "      <td>1</td>\n",
       "      <td>1</td>\n",
       "      <td>1</td>\n",
       "      <td>1</td>\n",
       "      <td>1</td>\n",
       "      <td>1</td>\n",
       "      <td>1</td>\n",
       "    </tr>\n",
       "    <tr>\n",
       "      <th>1</th>\n",
       "      <td>Apartment</td>\n",
       "      <td>2</td>\n",
       "      <td>2</td>\n",
       "      <td>765</td>\n",
       "      <td>Uttara</td>\n",
       "      <td>3,978,000</td>\n",
       "      <td>1</td>\n",
       "      <td>1</td>\n",
       "      <td>1</td>\n",
       "      <td>1</td>\n",
       "      <td>0</td>\n",
       "      <td>1</td>\n",
       "      <td>1</td>\n",
       "      <td>0</td>\n",
       "    </tr>\n",
       "    <tr>\n",
       "      <th>2</th>\n",
       "      <td>Apartment</td>\n",
       "      <td>2</td>\n",
       "      <td>2</td>\n",
       "      <td>772</td>\n",
       "      <td>Uttara</td>\n",
       "      <td>4,000,000</td>\n",
       "      <td>1</td>\n",
       "      <td>0</td>\n",
       "      <td>1</td>\n",
       "      <td>0</td>\n",
       "      <td>0</td>\n",
       "      <td>1</td>\n",
       "      <td>1</td>\n",
       "      <td>1</td>\n",
       "    </tr>\n",
       "    <tr>\n",
       "      <th>3</th>\n",
       "      <td>Apartment</td>\n",
       "      <td>2</td>\n",
       "      <td>2</td>\n",
       "      <td>1008</td>\n",
       "      <td>Uttara</td>\n",
       "      <td>4,200,000</td>\n",
       "      <td>1</td>\n",
       "      <td>0</td>\n",
       "      <td>1</td>\n",
       "      <td>1</td>\n",
       "      <td>0</td>\n",
       "      <td>1</td>\n",
       "      <td>1</td>\n",
       "      <td>1</td>\n",
       "    </tr>\n",
       "    <tr>\n",
       "      <th>4</th>\n",
       "      <td>Apartment</td>\n",
       "      <td>2</td>\n",
       "      <td>2</td>\n",
       "      <td>1,005</td>\n",
       "      <td>Uttara</td>\n",
       "      <td>4,200,000</td>\n",
       "      <td>1</td>\n",
       "      <td>1</td>\n",
       "      <td>1</td>\n",
       "      <td>1</td>\n",
       "      <td>0</td>\n",
       "      <td>1</td>\n",
       "      <td>1</td>\n",
       "      <td>1</td>\n",
       "    </tr>\n",
       "  </tbody>\n",
       "</table>\n",
       "</div>"
      ],
      "text/plain": [
       "  Property Type  Bed  Bath   Area Location      Price  Balcony_or_Terrace  \\\n",
       "0     Apartment    2     2    775   Uttara  3,800,000                   1   \n",
       "1     Apartment    2     2    765   Uttara  3,978,000                   1   \n",
       "2     Apartment    2     2    772   Uttara  4,000,000                   1   \n",
       "3     Apartment    2     2   1008   Uttara  4,200,000                   1   \n",
       "4     Apartment    2     2  1,005   Uttara  4,200,000                   1   \n",
       "\n",
       "   Lobby_in_Building  ElectricityBackup  Intercom  CCTV_Security  \\\n",
       "0                  1                  1         1              1   \n",
       "1                  1                  1         1              0   \n",
       "2                  0                  1         0              0   \n",
       "3                  0                  1         1              0   \n",
       "4                  1                  1         1              0   \n",
       "\n",
       "   Maintenance_Staff  CleaningServices  Tiles  \n",
       "0                  1                 1      1  \n",
       "1                  1                 1      0  \n",
       "2                  1                 1      1  \n",
       "3                  1                 1      1  \n",
       "4                  1                 1      1  "
      ]
     },
     "execution_count": 16,
     "metadata": {},
     "output_type": "execute_result"
    }
   ],
   "source": [
    "df2.head()"
   ]
  },
  {
   "cell_type": "code",
   "execution_count": 17,
   "metadata": {},
   "outputs": [],
   "source": [
    "df2.head()\n",
    "df2['Intercom'] = df2.Intercom.astype(int)\n",
    "df2['CCTV_Security'] = df2.CCTV_Security.astype(int)\n",
    "df2['Maintenance_Staff'] = df2.Maintenance_Staff.astype(int)\n",
    "df2['CleaningServices'] = df2.CleaningServices.astype(int)\n",
    "df2['Tiles'] = df2.Tiles.astype(int)\n",
    "df2['Balcony_or_Terrace'] = df2.Balcony_or_Terrace.astype(int)\n",
    "df2['Lobby_in_Building'] = df2.Lobby_in_Building.astype(int)\n",
    "df2['ElectricityBackup'] = df2.ElectricityBackup.astype(int)"
   ]
  },
  {
   "cell_type": "code",
   "execution_count": 18,
   "metadata": {
    "scrolled": true
   },
   "outputs": [
    {
     "data": {
      "image/png": "[encoded data removed]",
      "text/plain": [
       "<Figure size 720x576 with 2 Axes>"
      ]
     },
     "metadata": {
      "needs_background": "light"
     },
     "output_type": "display_data"
    }
   ],
   "source": [
    "plt.figure(figsize=(10,8))\n",
    "cor = df2.corr()\n",
    "sns.heatmap(cor, annot=True, cmap=plt.cm.Reds)\n",
    "plt.show()"
   ]
  },
  {
   "cell_type": "code",
   "execution_count": 19,
   "metadata": {},
   "outputs": [
    {
     "name": "stdout",
     "output_type": "stream",
     "text": [
      "<class 'pandas.core.frame.DataFrame'>\n",
      "RangeIndex: 136 entries, 0 to 135\n",
      "Data columns (total 14 columns):\n",
      "Property Type         136 non-null object\n",
      "Bed                   136 non-null int64\n",
      "Bath                  136 non-null int64\n",
      "Area                  136 non-null object\n",
      "Location              136 non-null object\n",
      "Price                 136 non-null object\n",
      "Balcony_or_Terrace    136 non-null int32\n",
      "Lobby_in_Building     136 non-null int32\n",
      "ElectricityBackup     136 non-null int32\n",
      "Intercom              136 non-null int32\n",
      "CCTV_Security         136 non-null int32\n",
      "Maintenance_Staff     136 non-null int32\n",
      "CleaningServices      136 non-null int32\n",
      "Tiles                 136 non-null int32\n",
      "dtypes: int32(8), int64(2), object(4)\n",
      "memory usage: 10.8+ KB\n"
     ]
    }
   ],
   "source": [
    "df2.info()"
   ]
  },
  {
   "cell_type": "code",
   "execution_count": 20,
   "metadata": {},
   "outputs": [],
   "source": [
    "df2['Price'] = (df2['Price'].str.split()).apply(lambda x: float(x[0].replace(',', '')))\n",
    "df2['Area'] = (df2['Area'].str.split()).apply(lambda x: float(x[0].replace(',', '')))"
   ]
  },
  {
   "cell_type": "code",
   "execution_count": 21,
   "metadata": {},
   "outputs": [
    {
     "name": "stdout",
     "output_type": "stream",
     "text": [
      "<class 'pandas.core.frame.DataFrame'>\n",
      "RangeIndex: 136 entries, 0 to 135\n",
      "Data columns (total 14 columns):\n",
      "Property Type         136 non-null object\n",
      "Bed                   136 non-null int64\n",
      "Bath                  136 non-null int64\n",
      "Area                  136 non-null float64\n",
      "Location              136 non-null object\n",
      "Price                 136 non-null float64\n",
      "Balcony_or_Terrace    136 non-null int32\n",
      "Lobby_in_Building     136 non-null int32\n",
      "ElectricityBackup     136 non-null int32\n",
      "Intercom              136 non-null int32\n",
      "CCTV_Security         136 non-null int32\n",
      "Maintenance_Staff     136 non-null int32\n",
      "CleaningServices      136 non-null int32\n",
      "Tiles                 136 non-null int32\n",
      "dtypes: float64(2), int32(8), int64(2), object(2)\n",
      "memory usage: 10.8+ KB\n"
     ]
    }
   ],
   "source": [
    "df2.info()"
   ]
  },
  {
   "cell_type": "code",
   "execution_count": null,
   "metadata": {
    "scrolled": true
   },
   "outputs": [],
   "source": []
  },
  {
   "cell_type": "code",
   "execution_count": 22,
   "metadata": {
    "scrolled": true
   },
   "outputs": [
    {
     "name": "stdout",
     "output_type": "stream",
     "text": [
      "<class 'pandas.core.frame.DataFrame'>\n",
      "RangeIndex: 136 entries, 0 to 135\n",
      "Data columns (total 14 columns):\n",
      "Property Type         136 non-null object\n",
      "Bed                   136 non-null int64\n",
      "Bath                  136 non-null int64\n",
      "Area                  136 non-null float64\n",
      "Location              136 non-null object\n",
      "Price                 136 non-null float64\n",
      "Balcony_or_Terrace    136 non-null int32\n",
      "Lobby_in_Building     136 non-null int32\n",
      "ElectricityBackup     136 non-null int32\n",
      "Intercom              136 non-null int32\n",
      "CCTV_Security         136 non-null int32\n",
      "Maintenance_Staff     136 non-null int32\n",
      "CleaningServices      136 non-null int32\n",
      "Tiles                 136 non-null int32\n",
      "dtypes: float64(2), int32(8), int64(2), object(2)\n",
      "memory usage: 10.8+ KB\n"
     ]
    }
   ],
   "source": [
    "df2.info()"
   ]
  },
  {
   "cell_type": "code",
   "execution_count": null,
   "metadata": {},
   "outputs": [],
   "source": []
  },
  {
   "cell_type": "code",
   "execution_count": 23,
   "metadata": {},
   "outputs": [
    {
     "data": {
      "text/html": [
       "<div>\n",
       "<style scoped>\n",
       "    .dataframe tbody tr th:only-of-type {\n",
       "        vertical-align: middle;\n",
       "    }\n",
       "\n",
       "    .dataframe tbody tr th {\n",
       "        vertical-align: top;\n",
       "    }\n",
       "\n",
       "    .dataframe thead th {\n",
       "        text-align: right;\n",
       "    }\n",
       "</style>\n",
       "<table border=\"1\" class=\"dataframe\">\n",
       "  <thead>\n",
       "    <tr style=\"text-align: right;\">\n",
       "      <th></th>\n",
       "      <th>Property Type</th>\n",
       "      <th>Bed</th>\n",
       "      <th>Bath</th>\n",
       "      <th>Area</th>\n",
       "      <th>Location</th>\n",
       "      <th>Price</th>\n",
       "      <th>Balcony_or_Terrace</th>\n",
       "      <th>Lobby_in_Building</th>\n",
       "      <th>ElectricityBackup</th>\n",
       "      <th>Intercom</th>\n",
       "      <th>CCTV_Security</th>\n",
       "      <th>Maintenance_Staff</th>\n",
       "      <th>CleaningServices</th>\n",
       "      <th>Tiles</th>\n",
       "    </tr>\n",
       "  </thead>\n",
       "  <tbody>\n",
       "    <tr>\n",
       "      <th>0</th>\n",
       "      <td>Apartment</td>\n",
       "      <td>2</td>\n",
       "      <td>2</td>\n",
       "      <td>775.0</td>\n",
       "      <td>Uttara</td>\n",
       "      <td>3800000.0</td>\n",
       "      <td>1</td>\n",
       "      <td>1</td>\n",
       "      <td>1</td>\n",
       "      <td>1</td>\n",
       "      <td>1</td>\n",
       "      <td>1</td>\n",
       "      <td>1</td>\n",
       "      <td>1</td>\n",
       "    </tr>\n",
       "    <tr>\n",
       "      <th>1</th>\n",
       "      <td>Apartment</td>\n",
       "      <td>2</td>\n",
       "      <td>2</td>\n",
       "      <td>765.0</td>\n",
       "      <td>Uttara</td>\n",
       "      <td>3978000.0</td>\n",
       "      <td>1</td>\n",
       "      <td>1</td>\n",
       "      <td>1</td>\n",
       "      <td>1</td>\n",
       "      <td>0</td>\n",
       "      <td>1</td>\n",
       "      <td>1</td>\n",
       "      <td>0</td>\n",
       "    </tr>\n",
       "    <tr>\n",
       "      <th>2</th>\n",
       "      <td>Apartment</td>\n",
       "      <td>2</td>\n",
       "      <td>2</td>\n",
       "      <td>772.0</td>\n",
       "      <td>Uttara</td>\n",
       "      <td>4000000.0</td>\n",
       "      <td>1</td>\n",
       "      <td>0</td>\n",
       "      <td>1</td>\n",
       "      <td>0</td>\n",
       "      <td>0</td>\n",
       "      <td>1</td>\n",
       "      <td>1</td>\n",
       "      <td>1</td>\n",
       "    </tr>\n",
       "    <tr>\n",
       "      <th>3</th>\n",
       "      <td>Apartment</td>\n",
       "      <td>2</td>\n",
       "      <td>2</td>\n",
       "      <td>1008.0</td>\n",
       "      <td>Uttara</td>\n",
       "      <td>4200000.0</td>\n",
       "      <td>1</td>\n",
       "      <td>0</td>\n",
       "      <td>1</td>\n",
       "      <td>1</td>\n",
       "      <td>0</td>\n",
       "      <td>1</td>\n",
       "      <td>1</td>\n",
       "      <td>1</td>\n",
       "    </tr>\n",
       "    <tr>\n",
       "      <th>4</th>\n",
       "      <td>Apartment</td>\n",
       "      <td>2</td>\n",
       "      <td>2</td>\n",
       "      <td>1005.0</td>\n",
       "      <td>Uttara</td>\n",
       "      <td>4200000.0</td>\n",
       "      <td>1</td>\n",
       "      <td>1</td>\n",
       "      <td>1</td>\n",
       "      <td>1</td>\n",
       "      <td>0</td>\n",
       "      <td>1</td>\n",
       "      <td>1</td>\n",
       "      <td>1</td>\n",
       "    </tr>\n",
       "  </tbody>\n",
       "</table>\n",
       "</div>"
      ],
      "text/plain": [
       "  Property Type  Bed  Bath    Area Location      Price  Balcony_or_Terrace  \\\n",
       "0     Apartment    2     2   775.0   Uttara  3800000.0                   1   \n",
       "1     Apartment    2     2   765.0   Uttara  3978000.0                   1   \n",
       "2     Apartment    2     2   772.0   Uttara  4000000.0                   1   \n",
       "3     Apartment    2     2  1008.0   Uttara  4200000.0                   1   \n",
       "4     Apartment    2     2  1005.0   Uttara  4200000.0                   1   \n",
       "\n",
       "   Lobby_in_Building  ElectricityBackup  Intercom  CCTV_Security  \\\n",
       "0                  1                  1         1              1   \n",
       "1                  1                  1         1              0   \n",
       "2                  0                  1         0              0   \n",
       "3                  0                  1         1              0   \n",
       "4                  1                  1         1              0   \n",
       "\n",
       "   Maintenance_Staff  CleaningServices  Tiles  \n",
       "0                  1                 1      1  \n",
       "1                  1                 1      0  \n",
       "2                  1                 1      1  \n",
       "3                  1                 1      1  \n",
       "4                  1                 1      1  "
      ]
     },
     "execution_count": 23,
     "metadata": {},
     "output_type": "execute_result"
    }
   ],
   "source": [
    "df2.head()\n"
   ]
  },
  {
   "cell_type": "code",
   "execution_count": 24,
   "metadata": {},
   "outputs": [
    {
     "data": {
      "text/html": [
       "<div>\n",
       "<style scoped>\n",
       "    .dataframe tbody tr th:only-of-type {\n",
       "        vertical-align: middle;\n",
       "    }\n",
       "\n",
       "    .dataframe tbody tr th {\n",
       "        vertical-align: top;\n",
       "    }\n",
       "\n",
       "    .dataframe thead th {\n",
       "        text-align: right;\n",
       "    }\n",
       "</style>\n",
       "<table border=\"1\" class=\"dataframe\">\n",
       "  <thead>\n",
       "    <tr style=\"text-align: right;\">\n",
       "      <th></th>\n",
       "      <th>Uttara</th>\n",
       "    </tr>\n",
       "  </thead>\n",
       "  <tbody>\n",
       "    <tr>\n",
       "      <th>0</th>\n",
       "      <td>1</td>\n",
       "    </tr>\n",
       "    <tr>\n",
       "      <th>1</th>\n",
       "      <td>1</td>\n",
       "    </tr>\n",
       "    <tr>\n",
       "      <th>2</th>\n",
       "      <td>1</td>\n",
       "    </tr>\n",
       "    <tr>\n",
       "      <th>3</th>\n",
       "      <td>1</td>\n",
       "    </tr>\n",
       "    <tr>\n",
       "      <th>4</th>\n",
       "      <td>1</td>\n",
       "    </tr>\n",
       "    <tr>\n",
       "      <th>...</th>\n",
       "      <td>...</td>\n",
       "    </tr>\n",
       "    <tr>\n",
       "      <th>95</th>\n",
       "      <td>1</td>\n",
       "    </tr>\n",
       "    <tr>\n",
       "      <th>96</th>\n",
       "      <td>1</td>\n",
       "    </tr>\n",
       "    <tr>\n",
       "      <th>97</th>\n",
       "      <td>1</td>\n",
       "    </tr>\n",
       "    <tr>\n",
       "      <th>98</th>\n",
       "      <td>1</td>\n",
       "    </tr>\n",
       "    <tr>\n",
       "      <th>99</th>\n",
       "      <td>1</td>\n",
       "    </tr>\n",
       "  </tbody>\n",
       "</table>\n",
       "<p>100 rows × 1 columns</p>\n",
       "</div>"
      ],
      "text/plain": [
       "    Uttara\n",
       "0        1\n",
       "1        1\n",
       "2        1\n",
       "3        1\n",
       "4        1\n",
       "..     ...\n",
       "95       1\n",
       "96       1\n",
       "97       1\n",
       "98       1\n",
       "99       1\n",
       "\n",
       "[100 rows x 1 columns]"
      ]
     },
     "execution_count": 24,
     "metadata": {},
     "output_type": "execute_result"
    }
   ],
   "source": [
    "dummies = pd.get_dummies(df2.Location)\n",
    "dummies.head(100)"
   ]
  },
  {
   "cell_type": "code",
   "execution_count": 25,
   "metadata": {},
   "outputs": [
    {
     "data": {
      "text/html": [
       "<div>\n",
       "<style scoped>\n",
       "    .dataframe tbody tr th:only-of-type {\n",
       "        vertical-align: middle;\n",
       "    }\n",
       "\n",
       "    .dataframe tbody tr th {\n",
       "        vertical-align: top;\n",
       "    }\n",
       "\n",
       "    .dataframe thead th {\n",
       "        text-align: right;\n",
       "    }\n",
       "</style>\n",
       "<table border=\"1\" class=\"dataframe\">\n",
       "  <thead>\n",
       "    <tr style=\"text-align: right;\">\n",
       "      <th></th>\n",
       "      <th>Property Type</th>\n",
       "      <th>Bed</th>\n",
       "      <th>Bath</th>\n",
       "      <th>Area</th>\n",
       "      <th>Location</th>\n",
       "      <th>Price</th>\n",
       "      <th>Balcony_or_Terrace</th>\n",
       "      <th>Lobby_in_Building</th>\n",
       "      <th>ElectricityBackup</th>\n",
       "      <th>Intercom</th>\n",
       "      <th>CCTV_Security</th>\n",
       "      <th>Maintenance_Staff</th>\n",
       "      <th>CleaningServices</th>\n",
       "      <th>Tiles</th>\n",
       "      <th>Uttara</th>\n",
       "    </tr>\n",
       "  </thead>\n",
       "  <tbody>\n",
       "    <tr>\n",
       "      <th>0</th>\n",
       "      <td>Apartment</td>\n",
       "      <td>2</td>\n",
       "      <td>2</td>\n",
       "      <td>775.0</td>\n",
       "      <td>Uttara</td>\n",
       "      <td>3800000.0</td>\n",
       "      <td>1</td>\n",
       "      <td>1</td>\n",
       "      <td>1</td>\n",
       "      <td>1</td>\n",
       "      <td>1</td>\n",
       "      <td>1</td>\n",
       "      <td>1</td>\n",
       "      <td>1</td>\n",
       "      <td>1</td>\n",
       "    </tr>\n",
       "    <tr>\n",
       "      <th>1</th>\n",
       "      <td>Apartment</td>\n",
       "      <td>2</td>\n",
       "      <td>2</td>\n",
       "      <td>765.0</td>\n",
       "      <td>Uttara</td>\n",
       "      <td>3978000.0</td>\n",
       "      <td>1</td>\n",
       "      <td>1</td>\n",
       "      <td>1</td>\n",
       "      <td>1</td>\n",
       "      <td>0</td>\n",
       "      <td>1</td>\n",
       "      <td>1</td>\n",
       "      <td>0</td>\n",
       "      <td>1</td>\n",
       "    </tr>\n",
       "    <tr>\n",
       "      <th>2</th>\n",
       "      <td>Apartment</td>\n",
       "      <td>2</td>\n",
       "      <td>2</td>\n",
       "      <td>772.0</td>\n",
       "      <td>Uttara</td>\n",
       "      <td>4000000.0</td>\n",
       "      <td>1</td>\n",
       "      <td>0</td>\n",
       "      <td>1</td>\n",
       "      <td>0</td>\n",
       "      <td>0</td>\n",
       "      <td>1</td>\n",
       "      <td>1</td>\n",
       "      <td>1</td>\n",
       "      <td>1</td>\n",
       "    </tr>\n",
       "    <tr>\n",
       "      <th>3</th>\n",
       "      <td>Apartment</td>\n",
       "      <td>2</td>\n",
       "      <td>2</td>\n",
       "      <td>1008.0</td>\n",
       "      <td>Uttara</td>\n",
       "      <td>4200000.0</td>\n",
       "      <td>1</td>\n",
       "      <td>0</td>\n",
       "      <td>1</td>\n",
       "      <td>1</td>\n",
       "      <td>0</td>\n",
       "      <td>1</td>\n",
       "      <td>1</td>\n",
       "      <td>1</td>\n",
       "      <td>1</td>\n",
       "    </tr>\n",
       "    <tr>\n",
       "      <th>4</th>\n",
       "      <td>Apartment</td>\n",
       "      <td>2</td>\n",
       "      <td>2</td>\n",
       "      <td>1005.0</td>\n",
       "      <td>Uttara</td>\n",
       "      <td>4200000.0</td>\n",
       "      <td>1</td>\n",
       "      <td>1</td>\n",
       "      <td>1</td>\n",
       "      <td>1</td>\n",
       "      <td>0</td>\n",
       "      <td>1</td>\n",
       "      <td>1</td>\n",
       "      <td>1</td>\n",
       "      <td>1</td>\n",
       "    </tr>\n",
       "  </tbody>\n",
       "</table>\n",
       "</div>"
      ],
      "text/plain": [
       "  Property Type  Bed  Bath    Area Location      Price  Balcony_or_Terrace  \\\n",
       "0     Apartment    2     2   775.0   Uttara  3800000.0                   1   \n",
       "1     Apartment    2     2   765.0   Uttara  3978000.0                   1   \n",
       "2     Apartment    2     2   772.0   Uttara  4000000.0                   1   \n",
       "3     Apartment    2     2  1008.0   Uttara  4200000.0                   1   \n",
       "4     Apartment    2     2  1005.0   Uttara  4200000.0                   1   \n",
       "\n",
       "   Lobby_in_Building  ElectricityBackup  Intercom  CCTV_Security  \\\n",
       "0                  1                  1         1              1   \n",
       "1                  1                  1         1              0   \n",
       "2                  0                  1         0              0   \n",
       "3                  0                  1         1              0   \n",
       "4                  1                  1         1              0   \n",
       "\n",
       "   Maintenance_Staff  CleaningServices  Tiles  Uttara  \n",
       "0                  1                 1      1       1  \n",
       "1                  1                 1      0       1  \n",
       "2                  1                 1      1       1  \n",
       "3                  1                 1      1       1  \n",
       "4                  1                 1      1       1  "
      ]
     },
     "execution_count": 25,
     "metadata": {},
     "output_type": "execute_result"
    }
   ],
   "source": [
    "df3 = pd.concat([df2,dummies],axis='columns')\n",
    "df3.head()"
   ]
  },
  {
   "cell_type": "code",
   "execution_count": 26,
   "metadata": {
    "scrolled": false
   },
   "outputs": [
    {
     "data": {
      "text/html": [
       "<div>\n",
       "<style scoped>\n",
       "    .dataframe tbody tr th:only-of-type {\n",
       "        vertical-align: middle;\n",
       "    }\n",
       "\n",
       "    .dataframe tbody tr th {\n",
       "        vertical-align: top;\n",
       "    }\n",
       "\n",
       "    .dataframe thead th {\n",
       "        text-align: right;\n",
       "    }\n",
       "</style>\n",
       "<table border=\"1\" class=\"dataframe\">\n",
       "  <thead>\n",
       "    <tr style=\"text-align: right;\">\n",
       "      <th></th>\n",
       "      <th>Bed</th>\n",
       "      <th>Bath</th>\n",
       "      <th>Area</th>\n",
       "      <th>Price</th>\n",
       "      <th>Balcony_or_Terrace</th>\n",
       "      <th>Lobby_in_Building</th>\n",
       "      <th>ElectricityBackup</th>\n",
       "      <th>Intercom</th>\n",
       "      <th>CCTV_Security</th>\n",
       "      <th>Maintenance_Staff</th>\n",
       "      <th>CleaningServices</th>\n",
       "      <th>Tiles</th>\n",
       "      <th>Uttara</th>\n",
       "    </tr>\n",
       "  </thead>\n",
       "  <tbody>\n",
       "    <tr>\n",
       "      <th>0</th>\n",
       "      <td>2</td>\n",
       "      <td>2</td>\n",
       "      <td>775.0</td>\n",
       "      <td>3800000.0</td>\n",
       "      <td>1</td>\n",
       "      <td>1</td>\n",
       "      <td>1</td>\n",
       "      <td>1</td>\n",
       "      <td>1</td>\n",
       "      <td>1</td>\n",
       "      <td>1</td>\n",
       "      <td>1</td>\n",
       "      <td>1</td>\n",
       "    </tr>\n",
       "    <tr>\n",
       "      <th>1</th>\n",
       "      <td>2</td>\n",
       "      <td>2</td>\n",
       "      <td>765.0</td>\n",
       "      <td>3978000.0</td>\n",
       "      <td>1</td>\n",
       "      <td>1</td>\n",
       "      <td>1</td>\n",
       "      <td>1</td>\n",
       "      <td>0</td>\n",
       "      <td>1</td>\n",
       "      <td>1</td>\n",
       "      <td>0</td>\n",
       "      <td>1</td>\n",
       "    </tr>\n",
       "  </tbody>\n",
       "</table>\n",
       "</div>"
      ],
      "text/plain": [
       "   Bed  Bath   Area      Price  Balcony_or_Terrace  Lobby_in_Building  \\\n",
       "0    2     2  775.0  3800000.0                   1                  1   \n",
       "1    2     2  765.0  3978000.0                   1                  1   \n",
       "\n",
       "   ElectricityBackup  Intercom  CCTV_Security  Maintenance_Staff  \\\n",
       "0                  1         1              1                  1   \n",
       "1                  1         1              0                  1   \n",
       "\n",
       "   CleaningServices  Tiles  Uttara  \n",
       "0                 1      1       1  \n",
       "1                 1      0       1  "
      ]
     },
     "execution_count": 26,
     "metadata": {},
     "output_type": "execute_result"
    }
   ],
   "source": [
    "df4 = df3.drop('Location',axis='columns')\n",
    "df5 = df4.drop('Property Type',axis='columns')\n",
    "df5.head(2)"
   ]
  },
  {
   "cell_type": "code",
   "execution_count": 27,
   "metadata": {},
   "outputs": [
    {
     "data": {
      "image/png": "[encoded data removed]",
      "text/plain": [
       "<Figure size 720x576 with 2 Axes>"
      ]
     },
     "metadata": {
      "needs_background": "light"
     },
     "output_type": "display_data"
    }
   ],
   "source": [
    "#co-relation without mask \n",
    "plt.figure(figsize=(10,8))\n",
    "cor = df5.corr()\n",
    "sns.set_style('white')\n",
    "sns.heatmap(cor, annot=True, cmap=plt.cm.Reds, annot_kws={\"size\": 10},linewidth=.7)\n",
    "plt.xticks(fontsize=16)\n",
    "plt.yticks(fontsize=16)\n",
    "plt.show()"
   ]
  },
  {
   "cell_type": "code",
   "execution_count": 28,
   "metadata": {
    "scrolled": true
   },
   "outputs": [
    {
     "data": {
      "text/plain": [
       "Bed      0.581955\n",
       "Bath     0.601059\n",
       "Area     0.731705\n",
       "Price    1.000000\n",
       "Name: Price, dtype: float64"
      ]
     },
     "execution_count": 28,
     "metadata": {},
     "output_type": "execute_result"
    }
   ],
   "source": [
    "#Correlation with output variable\n",
    "cor_target = abs(cor[\"Price\"])\n",
    "#Selecting highly correlated features\n",
    "relevant_features = cor_target[cor_target>0.5]\n",
    "relevant_features"
   ]
  },
  {
   "cell_type": "code",
   "execution_count": 29,
   "metadata": {},
   "outputs": [
    {
     "data": {
      "text/plain": [
       "array([[1., 1., 1., 1., 1., 1., 1., 1., 1., 1., 1., 1., 1.],\n",
       "       [0., 1., 1., 1., 1., 1., 1., 1., 1., 1., 1., 1., 1.],\n",
       "       [0., 0., 1., 1., 1., 1., 1., 1., 1., 1., 1., 1., 1.],\n",
       "       [0., 0., 0., 1., 1., 1., 1., 1., 1., 1., 1., 1., 1.],\n",
       "       [0., 0., 0., 0., 1., 1., 1., 1., 1., 1., 1., 1., 1.],\n",
       "       [0., 0., 0., 0., 0., 1., 1., 1., 1., 1., 1., 1., 1.],\n",
       "       [0., 0., 0., 0., 0., 0., 1., 1., 1., 1., 1., 1., 1.],\n",
       "       [0., 0., 0., 0., 0., 0., 0., 1., 1., 1., 1., 1., 1.],\n",
       "       [0., 0., 0., 0., 0., 0., 0., 0., 1., 1., 1., 1., 1.],\n",
       "       [0., 0., 0., 0., 0., 0., 0., 0., 0., 1., 1., 1., 1.],\n",
       "       [0., 0., 0., 0., 0., 0., 0., 0., 0., 0., 1., 1., 1.],\n",
       "       [0., 0., 0., 0., 0., 0., 0., 0., 0., 0., 0., 1., 1.],\n",
       "       [0., 0., 0., 0., 0., 0., 0., 0., 0., 0., 0., 0., 1.]])"
      ]
     },
     "execution_count": 29,
     "metadata": {},
     "output_type": "execute_result"
    }
   ],
   "source": [
    "#creating mask \n",
    "mask = np.zeros_like(df5.corr())\n",
    "triangel_indices = np.triu_indices_from(mask)\n",
    "mask[triangel_indices] = True\n",
    "mask"
   ]
  },
  {
   "cell_type": "code",
   "execution_count": 30,
   "metadata": {},
   "outputs": [
    {
     "data": {
      "image/png": "[encoded data removed]",
      "text/plain": [
       "<Figure size 1152x720 with 2 Axes>"
      ]
     },
     "metadata": {},
     "output_type": "display_data"
    }
   ],
   "source": [
    "plt.figure(figsize=(16,10))\n",
    "sns.heatmap(df5.corr(), mask=mask, annot=True,annot_kws={\"size\": 10})\n",
    "sns.set_style('white')\n",
    "plt.xticks(fontsize=16)\n",
    "plt.yticks(fontsize=16)\n",
    "plt.show()"
   ]
  },
  {
   "cell_type": "code",
   "execution_count": 31,
   "metadata": {},
   "outputs": [
    {
     "data": {
      "text/html": [
       "<div>\n",
       "<style scoped>\n",
       "    .dataframe tbody tr th:only-of-type {\n",
       "        vertical-align: middle;\n",
       "    }\n",
       "\n",
       "    .dataframe tbody tr th {\n",
       "        vertical-align: top;\n",
       "    }\n",
       "\n",
       "    .dataframe thead th {\n",
       "        text-align: right;\n",
       "    }\n",
       "</style>\n",
       "<table border=\"1\" class=\"dataframe\">\n",
       "  <thead>\n",
       "    <tr style=\"text-align: right;\">\n",
       "      <th></th>\n",
       "      <th>Bed</th>\n",
       "      <th>Bath</th>\n",
       "      <th>Area</th>\n",
       "      <th>Balcony_or_Terrace</th>\n",
       "      <th>Lobby_in_Building</th>\n",
       "      <th>ElectricityBackup</th>\n",
       "      <th>Intercom</th>\n",
       "      <th>CCTV_Security</th>\n",
       "      <th>Maintenance_Staff</th>\n",
       "      <th>CleaningServices</th>\n",
       "      <th>Tiles</th>\n",
       "      <th>Uttara</th>\n",
       "    </tr>\n",
       "  </thead>\n",
       "  <tbody>\n",
       "    <tr>\n",
       "      <th>0</th>\n",
       "      <td>2</td>\n",
       "      <td>2</td>\n",
       "      <td>775.0</td>\n",
       "      <td>1</td>\n",
       "      <td>1</td>\n",
       "      <td>1</td>\n",
       "      <td>1</td>\n",
       "      <td>1</td>\n",
       "      <td>1</td>\n",
       "      <td>1</td>\n",
       "      <td>1</td>\n",
       "      <td>1</td>\n",
       "    </tr>\n",
       "    <tr>\n",
       "      <th>1</th>\n",
       "      <td>2</td>\n",
       "      <td>2</td>\n",
       "      <td>765.0</td>\n",
       "      <td>1</td>\n",
       "      <td>1</td>\n",
       "      <td>1</td>\n",
       "      <td>1</td>\n",
       "      <td>0</td>\n",
       "      <td>1</td>\n",
       "      <td>1</td>\n",
       "      <td>0</td>\n",
       "      <td>1</td>\n",
       "    </tr>\n",
       "    <tr>\n",
       "      <th>2</th>\n",
       "      <td>2</td>\n",
       "      <td>2</td>\n",
       "      <td>772.0</td>\n",
       "      <td>1</td>\n",
       "      <td>0</td>\n",
       "      <td>1</td>\n",
       "      <td>0</td>\n",
       "      <td>0</td>\n",
       "      <td>1</td>\n",
       "      <td>1</td>\n",
       "      <td>1</td>\n",
       "      <td>1</td>\n",
       "    </tr>\n",
       "    <tr>\n",
       "      <th>3</th>\n",
       "      <td>2</td>\n",
       "      <td>2</td>\n",
       "      <td>1008.0</td>\n",
       "      <td>1</td>\n",
       "      <td>0</td>\n",
       "      <td>1</td>\n",
       "      <td>1</td>\n",
       "      <td>0</td>\n",
       "      <td>1</td>\n",
       "      <td>1</td>\n",
       "      <td>1</td>\n",
       "      <td>1</td>\n",
       "    </tr>\n",
       "    <tr>\n",
       "      <th>4</th>\n",
       "      <td>2</td>\n",
       "      <td>2</td>\n",
       "      <td>1005.0</td>\n",
       "      <td>1</td>\n",
       "      <td>1</td>\n",
       "      <td>1</td>\n",
       "      <td>1</td>\n",
       "      <td>0</td>\n",
       "      <td>1</td>\n",
       "      <td>1</td>\n",
       "      <td>1</td>\n",
       "      <td>1</td>\n",
       "    </tr>\n",
       "  </tbody>\n",
       "</table>\n",
       "</div>"
      ],
      "text/plain": [
       "   Bed  Bath    Area  Balcony_or_Terrace  Lobby_in_Building  \\\n",
       "0    2     2   775.0                   1                  1   \n",
       "1    2     2   765.0                   1                  1   \n",
       "2    2     2   772.0                   1                  0   \n",
       "3    2     2  1008.0                   1                  0   \n",
       "4    2     2  1005.0                   1                  1   \n",
       "\n",
       "   ElectricityBackup  Intercom  CCTV_Security  Maintenance_Staff  \\\n",
       "0                  1         1              1                  1   \n",
       "1                  1         1              0                  1   \n",
       "2                  1         0              0                  1   \n",
       "3                  1         1              0                  1   \n",
       "4                  1         1              0                  1   \n",
       "\n",
       "   CleaningServices  Tiles  Uttara  \n",
       "0                 1      1       1  \n",
       "1                 1      0       1  \n",
       "2                 1      1       1  \n",
       "3                 1      1       1  \n",
       "4                 1      1       1  "
      ]
     },
     "execution_count": 31,
     "metadata": {},
     "output_type": "execute_result"
    }
   ],
   "source": [
    "X = df5.drop(['Price'],axis='columns')\n",
    "X.head()"
   ]
  },
  {
   "cell_type": "code",
   "execution_count": 32,
   "metadata": {},
   "outputs": [
    {
     "name": "stdout",
     "output_type": "stream",
     "text": [
      "<class 'pandas.core.frame.DataFrame'>\n",
      "RangeIndex: 136 entries, 0 to 135\n",
      "Data columns (total 12 columns):\n",
      "Bed                   136 non-null int64\n",
      "Bath                  136 non-null int64\n",
      "Area                  136 non-null float64\n",
      "Balcony_or_Terrace    136 non-null int32\n",
      "Lobby_in_Building     136 non-null int32\n",
      "ElectricityBackup     136 non-null int32\n",
      "Intercom              136 non-null int32\n",
      "CCTV_Security         136 non-null int32\n",
      "Maintenance_Staff     136 non-null int32\n",
      "CleaningServices      136 non-null int32\n",
      "Tiles                 136 non-null int32\n",
      "Uttara                136 non-null uint8\n",
      "dtypes: float64(1), int32(8), int64(2), uint8(1)\n",
      "memory usage: 7.7 KB\n"
     ]
    }
   ],
   "source": [
    "X.info()"
   ]
  },
  {
   "cell_type": "code",
   "execution_count": 33,
   "metadata": {},
   "outputs": [
    {
     "data": {
      "text/plain": [
       "0    3800000.0\n",
       "1    3978000.0\n",
       "2    4000000.0\n",
       "3    4200000.0\n",
       "4    4200000.0\n",
       "Name: Price, dtype: float64"
      ]
     },
     "execution_count": 33,
     "metadata": {},
     "output_type": "execute_result"
    }
   ],
   "source": [
    "y = df5.Price\n",
    "y.head()"
   ]
  },
  {
   "cell_type": "code",
   "execution_count": 60,
   "metadata": {},
   "outputs": [],
   "source": [
    "from sklearn.model_selection import train_test_split\n",
    "X_train, X_test, y_train, y_test = train_test_split(X,y,test_size=0.2,random_state=10)"
   ]
  },
  {
   "cell_type": "code",
   "execution_count": 61,
   "metadata": {},
   "outputs": [
    {
     "data": {
      "text/plain": [
       "0.7522428885676558"
      ]
     },
     "execution_count": 61,
     "metadata": {},
     "output_type": "execute_result"
    }
   ],
   "source": [
    "from sklearn.linear_model import LinearRegression\n",
    "lr_clf = LinearRegression()\n",
    "lr_clf.fit(X_train,y_train)\n",
    "lr_clf.score(X_test,y_test)"
   ]
  },
  {
   "cell_type": "code",
   "execution_count": 62,
   "metadata": {
    "scrolled": true
   },
   "outputs": [
    {
     "data": {
      "text/plain": [
       "array([0.40806037, 0.57472053, 0.12560038, 0.52896738, 0.3866626 ])"
      ]
     },
     "execution_count": 62,
     "metadata": {},
     "output_type": "execute_result"
    }
   ],
   "source": [
    "from sklearn.model_selection import ShuffleSplit\n",
    "from sklearn.model_selection import cross_val_score\n",
    "\n",
    "cv = ShuffleSplit(n_splits=5, test_size=0.2, random_state=0)\n",
    "\n",
    "cross_val_score(LinearRegression(), X, y, cv=cv)"
   ]
  },
  {
   "cell_type": "code",
   "execution_count": 37,
   "metadata": {},
   "outputs": [
    {
     "data": {
      "text/plain": [
       "Index(['Bed', 'Bath', 'Area', 'Balcony_or_Terrace', 'Lobby_in_Building',\n",
       "       'ElectricityBackup', 'Intercom', 'CCTV_Security', 'Maintenance_Staff',\n",
       "       'CleaningServices', 'Tiles', 'Uttara'],\n",
       "      dtype='object')"
      ]
     },
     "execution_count": 37,
     "metadata": {},
     "output_type": "execute_result"
    }
   ],
   "source": [
    "X.columns"
   ]
  },
  {
   "cell_type": "code",
   "execution_count": 38,
   "metadata": {},
   "outputs": [
    {
     "name": "stdout",
     "output_type": "stream",
     "text": [
      "Best alpha using built-in LassoCV: 210445.896512\n",
      "Best score using built-in LassoCV: 0.535392\n"
     ]
    }
   ],
   "source": [
    "#Using lesso\n",
    "reg = LassoCV()\n",
    "reg.fit(X, y)\n",
    "print(\"Best alpha using built-in LassoCV: %f\" % reg.alpha_)\n",
    "print(\"Best score using built-in LassoCV: %f\" %reg.score(X,y))\n",
    "coef = pd.Series(reg.coef_, index = X.columns)\n"
   ]
  },
  {
   "cell_type": "code",
   "execution_count": 39,
   "metadata": {},
   "outputs": [
    {
     "name": "stdout",
     "output_type": "stream",
     "text": [
      "Lasso picked 1 variables and eliminated the other 11 variables\n"
     ]
    }
   ],
   "source": [
    "print(\"Lasso picked \" + str(sum(coef != 0)) + \" variables and eliminated the other \" +  str(sum(coef == 0)) + \" variables\")"
   ]
  },
  {
   "cell_type": "code",
   "execution_count": 40,
   "metadata": {},
   "outputs": [
    {
     "data": {
      "text/plain": [
       "Text(0.5, 1.0, 'Feature importance using Lasso Model')"
      ]
     },
     "execution_count": 40,
     "metadata": {},
     "output_type": "execute_result"
    },
    {
     "data": {
      "image/png": "[encoded data removed]",
      "text/plain": [
       "<Figure size 576x720 with 1 Axes>"
      ]
     },
     "metadata": {},
     "output_type": "display_data"
    }
   ],
   "source": [
    "imp_coef = coef.sort_values()\n",
    "import matplotlib\n",
    "matplotlib.rcParams['figure.figsize'] = (8.0, 10.0)\n",
    "imp_coef.plot(kind = \"barh\")\n",
    "plt.title(\"Feature importance using Lasso Model\")"
   ]
  },
  {
   "cell_type": "code",
   "execution_count": 41,
   "metadata": {
    "scrolled": true
   },
   "outputs": [
    {
     "data": {
      "text/html": [
       "<div>\n",
       "<style scoped>\n",
       "    .dataframe tbody tr th:only-of-type {\n",
       "        vertical-align: middle;\n",
       "    }\n",
       "\n",
       "    .dataframe tbody tr th {\n",
       "        vertical-align: top;\n",
       "    }\n",
       "\n",
       "    .dataframe thead th {\n",
       "        text-align: right;\n",
       "    }\n",
       "</style>\n",
       "<table border=\"1\" class=\"dataframe\">\n",
       "  <thead>\n",
       "    <tr style=\"text-align: right;\">\n",
       "      <th></th>\n",
       "      <th>model</th>\n",
       "      <th>best_score</th>\n",
       "      <th>best_params</th>\n",
       "    </tr>\n",
       "  </thead>\n",
       "  <tbody>\n",
       "    <tr>\n",
       "      <th>0</th>\n",
       "      <td>linear_regression</td>\n",
       "      <td>0.404802</td>\n",
       "      <td>{'normalize': True}</td>\n",
       "    </tr>\n",
       "    <tr>\n",
       "      <th>1</th>\n",
       "      <td>lasso</td>\n",
       "      <td>0.404809</td>\n",
       "      <td>{'alpha': 2, 'selection': 'random'}</td>\n",
       "    </tr>\n",
       "    <tr>\n",
       "      <th>2</th>\n",
       "      <td>decision_tree</td>\n",
       "      <td>-0.316833</td>\n",
       "      <td>{'criterion': 'friedman_mse', 'splitter': 'ran...</td>\n",
       "    </tr>\n",
       "  </tbody>\n",
       "</table>\n",
       "</div>"
      ],
      "text/plain": [
       "               model  best_score  \\\n",
       "0  linear_regression    0.404802   \n",
       "1              lasso    0.404809   \n",
       "2      decision_tree   -0.316833   \n",
       "\n",
       "                                         best_params  \n",
       "0                                {'normalize': True}  \n",
       "1                {'alpha': 2, 'selection': 'random'}  \n",
       "2  {'criterion': 'friedman_mse', 'splitter': 'ran...  "
      ]
     },
     "execution_count": 41,
     "metadata": {},
     "output_type": "execute_result"
    }
   ],
   "source": [
    "from sklearn.model_selection import GridSearchCV\n",
    "from sklearn.linear_model import Lasso\n",
    "from sklearn.tree import DecisionTreeRegressor\n",
    "\n",
    "def find_best_model_using_gridsearchcv(X,y):\n",
    "    algos = {\n",
    "        'linear_regression' : {\n",
    "            'model': LinearRegression(),\n",
    "            'params': {\n",
    "                'normalize': [True, False]\n",
    "            }\n",
    "        },\n",
    "        'lasso': {\n",
    "            'model': Lasso(),\n",
    "            'params': {\n",
    "                'alpha': [1,2],\n",
    "                'selection': ['random', 'cyclic']\n",
    "            }\n",
    "        },\n",
    "        'decision_tree': {\n",
    "            'model': DecisionTreeRegressor(),\n",
    "            'params': {\n",
    "                'criterion' : ['mse','friedman_mse'],\n",
    "                'splitter': ['best','random']\n",
    "            }\n",
    "        }\n",
    "    }\n",
    "    scores = []\n",
    "    cv = ShuffleSplit(n_splits=5, test_size=0.2, random_state=0)\n",
    "    for algo_name, config in algos.items():\n",
    "        gs =  GridSearchCV(config['model'], config['params'], cv=cv, return_train_score=False)\n",
    "        gs.fit(X,y)\n",
    "        scores.append({\n",
    "            'model': algo_name,\n",
    "            'best_score': gs.best_score_,\n",
    "            'best_params': gs.best_params_\n",
    "        })\n",
    "\n",
    "    return pd.DataFrame(scores,columns=['model','best_score','best_params'])\n",
    "\n",
    "find_best_model_using_gridsearchcv(X,y)"
   ]
  },
  {
   "cell_type": "code",
   "execution_count": 42,
   "metadata": {},
   "outputs": [
    {
     "data": {
      "text/plain": [
       "Index(['Bed', 'Bath', 'Area', 'Balcony_or_Terrace', 'Lobby_in_Building',\n",
       "       'ElectricityBackup', 'Intercom', 'CCTV_Security', 'Maintenance_Staff',\n",
       "       'CleaningServices', 'Tiles', 'Uttara'],\n",
       "      dtype='object')"
      ]
     },
     "execution_count": 42,
     "metadata": {},
     "output_type": "execute_result"
    }
   ],
   "source": [
    "np.where(X.columns==\"Uttara\")[0][0]\n",
    "X.columns"
   ]
  },
  {
   "cell_type": "code",
   "execution_count": 43,
   "metadata": {},
   "outputs": [],
   "source": [
    "def predict_price(location,Bed,Bath,Area,Balcony_or_Terrace,\n",
    "                 Lobby_in_Building,ElectricityBackup,\n",
    "                 Intercom,CCTV_Security,Maintenance_Staff,CleaningServices,\n",
    "                 Tiles):    \n",
    "    loc_index = np.where(X.columns==location)[0][0]\n",
    "\n",
    "    x = np.zeros(len(X.columns))\n",
    "    x[0] = Bed\n",
    "    x[1] = Bath\n",
    "    x[2] = Area\n",
    "    x[3] = Balcony_or_Terrace\n",
    "    x[4] = Lobby_in_Building\n",
    "    x[5] = ElectricityBackup\n",
    "    x[6] = Intercom\n",
    "    x[7] = CCTV_Security\n",
    "    x[8] = Maintenance_Staff\n",
    "    x[9] = CleaningServices\n",
    "    x[10] = Tiles\n",
    "    \n",
    "    if loc_index >= 0:\n",
    "        x[loc_index] = 1\n",
    "\n",
    "    return lr_clf.predict([x])[0]"
   ]
  },
  {
   "cell_type": "code",
   "execution_count": 44,
   "metadata": {},
   "outputs": [
    {
     "data": {
      "text/plain": [
       "5261572.410812572"
      ]
     },
     "execution_count": 44,
     "metadata": {},
     "output_type": "execute_result"
    }
   ],
   "source": [
    "predict_price(\"Uttara\",2,2,775.0,1,1,1,1,1,1,1,1)"
   ]
  },
  {
   "cell_type": "code",
   "execution_count": 46,
   "metadata": {},
   "outputs": [],
   "source": [
    "cof = lr_clf.coef_.astype(str)"
   ]
  },
  {
   "cell_type": "code",
   "execution_count": 47,
   "metadata": {},
   "outputs": [
    {
     "data": {
      "text/plain": [
       "array(['388096.3859268371', '188701.78158385397', '2784.6810733735524',\n",
       "       '-7.275957614183426e-11', '351481.3403989193', '-186817.392897882',\n",
       "       '-201627.2670991194', '470497.6464787935', '-302917.2119589861',\n",
       "       '-186321.44693642066', '448784.0104019116', '0.0'], dtype='<U32')"
      ]
     },
     "execution_count": 47,
     "metadata": {},
     "output_type": "execute_result"
    }
   ],
   "source": [
    "cof"
   ]
  },
  {
   "cell_type": "code",
   "execution_count": 48,
   "metadata": {},
   "outputs": [
    {
     "data": {
      "text/plain": [
       "1556768.56553947"
      ]
     },
     "execution_count": 48,
     "metadata": {},
     "output_type": "execute_result"
    }
   ],
   "source": [
    "lr_clf.intercept_"
   ]
  },
  {
   "cell_type": "code",
   "execution_count": 64,
   "metadata": {},
   "outputs": [
    {
     "data": {
      "text/plain": [
       "7618520.154853694"
      ]
     },
     "execution_count": 64,
     "metadata": {},
     "output_type": "execute_result"
    }
   ],
   "source": [
    "predict_price(\"Uttara\",5,5,1000,1,1,1,1,1,1,1,1)"
   ]
  },
  {
   "cell_type": "code",
   "execution_count": 65,
   "metadata": {},
   "outputs": [],
   "source": [
    "y_pred = lr_clf.predict(X_test)"
   ]
  },
  {
   "cell_type": "code",
   "execution_count": 66,
   "metadata": {},
   "outputs": [
    {
     "data": {
      "text/html": [
       "<div>\n",
       "<style scoped>\n",
       "    .dataframe tbody tr th:only-of-type {\n",
       "        vertical-align: middle;\n",
       "    }\n",
       "\n",
       "    .dataframe tbody tr th {\n",
       "        vertical-align: top;\n",
       "    }\n",
       "\n",
       "    .dataframe thead th {\n",
       "        text-align: right;\n",
       "    }\n",
       "</style>\n",
       "<table border=\"1\" class=\"dataframe\">\n",
       "  <thead>\n",
       "    <tr style=\"text-align: right;\">\n",
       "      <th></th>\n",
       "      <th>Coefficient</th>\n",
       "    </tr>\n",
       "  </thead>\n",
       "  <tbody>\n",
       "    <tr>\n",
       "      <th>Bed</th>\n",
       "      <td>3.880964e+05</td>\n",
       "    </tr>\n",
       "    <tr>\n",
       "      <th>Bath</th>\n",
       "      <td>1.887018e+05</td>\n",
       "    </tr>\n",
       "    <tr>\n",
       "      <th>Area</th>\n",
       "      <td>2.784681e+03</td>\n",
       "    </tr>\n",
       "    <tr>\n",
       "      <th>Balcony_or_Terrace</th>\n",
       "      <td>-7.275958e-11</td>\n",
       "    </tr>\n",
       "    <tr>\n",
       "      <th>Lobby_in_Building</th>\n",
       "      <td>3.514813e+05</td>\n",
       "    </tr>\n",
       "    <tr>\n",
       "      <th>ElectricityBackup</th>\n",
       "      <td>-1.868174e+05</td>\n",
       "    </tr>\n",
       "    <tr>\n",
       "      <th>Intercom</th>\n",
       "      <td>-2.016273e+05</td>\n",
       "    </tr>\n",
       "    <tr>\n",
       "      <th>CCTV_Security</th>\n",
       "      <td>4.704976e+05</td>\n",
       "    </tr>\n",
       "    <tr>\n",
       "      <th>Maintenance_Staff</th>\n",
       "      <td>-3.029172e+05</td>\n",
       "    </tr>\n",
       "    <tr>\n",
       "      <th>CleaningServices</th>\n",
       "      <td>-1.863214e+05</td>\n",
       "    </tr>\n",
       "    <tr>\n",
       "      <th>Tiles</th>\n",
       "      <td>4.487840e+05</td>\n",
       "    </tr>\n",
       "    <tr>\n",
       "      <th>Uttara</th>\n",
       "      <td>0.000000e+00</td>\n",
       "    </tr>\n",
       "  </tbody>\n",
       "</table>\n",
       "</div>"
      ],
      "text/plain": [
       "                     Coefficient\n",
       "Bed                 3.880964e+05\n",
       "Bath                1.887018e+05\n",
       "Area                2.784681e+03\n",
       "Balcony_or_Terrace -7.275958e-11\n",
       "Lobby_in_Building   3.514813e+05\n",
       "ElectricityBackup  -1.868174e+05\n",
       "Intercom           -2.016273e+05\n",
       "CCTV_Security       4.704976e+05\n",
       "Maintenance_Staff  -3.029172e+05\n",
       "CleaningServices   -1.863214e+05\n",
       "Tiles               4.487840e+05\n",
       "Uttara              0.000000e+00"
      ]
     },
     "execution_count": 66,
     "metadata": {},
     "output_type": "execute_result"
    }
   ],
   "source": [
    "coeff_df = pd.DataFrame(lr_clf.coef_, X.columns, columns=['Coefficient'])  \n",
    "coeff_df"
   ]
  },
  {
   "cell_type": "code",
   "execution_count": 67,
   "metadata": {},
   "outputs": [],
   "source": [
    "df = pd.DataFrame({'Actual': y_test, 'Predicted': y_pred})\n",
    "df1 = df.head(25)"
   ]
  },
  {
   "cell_type": "code",
   "execution_count": 68,
   "metadata": {},
   "outputs": [
    {
     "data": {
      "image/png": "[encoded data removed]",
      "text/plain": [
       "<Figure size 720x576 with 1 Axes>"
      ]
     },
     "metadata": {},
     "output_type": "display_data"
    }
   ],
   "source": [
    "df1.plot(kind='bar',figsize=(10,8))\n",
    "plt.grid(which='major', linestyle='-', linewidth='0.5', color='green')\n",
    "plt.grid(which='minor', linestyle=':', linewidth='0.5', color='black')\n",
    "plt.show()"
   ]
  },
  {
   "cell_type": "code",
   "execution_count": 74,
   "metadata": {},
   "outputs": [
    {
     "data": {
      "text/plain": [
       "4849751.720008742"
      ]
     },
     "execution_count": 74,
     "metadata": {},
     "output_type": "execute_result"
    }
   ],
   "source": [
    "predict_price(\"Uttara\",2,2,775.0,1,0,0,0,1,1,1,0)"
   ]
  },
  {
   "cell_type": "code",
   "execution_count": null,
   "metadata": {},
   "outputs": [],
   "source": []
  }
 ],
 "metadata": {
  "kernelspec": {
   "display_name": "Python 3",
   "language": "python",
   "name": "python3"
  },
  "language_info": {
   "codemirror_mode": {
    "name": "ipython",
    "version": 3
   },
   "file_extension": ".py",
   "mimetype": "text/x-python",
   "name": "python",
   "nbconvert_exporter": "python",
   "pygments_lexer": "ipython3",
   "version": "3.7.3"
  }
 },
 "nbformat": 4,
 "nbformat_minor": 2
}
